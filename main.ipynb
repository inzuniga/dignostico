{
 "cells": [
  {
   "cell_type": "code",
   "execution_count": 1,
   "metadata": {},
   "outputs": [],
   "source": [
    "from leer_archivo import leer_archivo\n",
    "from funciones import mas_retweet, usuarios_top"
   ]
  },
  {
   "cell_type": "code",
   "execution_count": 3,
   "metadata": {},
   "outputs": [
    {
     "name": "stdout",
     "output_type": "stream",
     "text": [
      "Los tweets con más retweet son:\n",
      "To all of my influencer/celeb friends- read up on this   #FarmersProtest 👀\n",
      "There has been much social media coverage around the #FarmersProtest in #India. Very useful guide to the legislation and the impact on farmers. 1/2 https://t.co/3CsdgBebdZ\n",
      "I still #StandWithFarmers and support their peaceful protest.\n",
      "No amount of hate, threats or violations of human rights will ever change that. #FarmersProtest\n",
      "Happy to share that I’ve donated $10,000 to provide medical assistance to the farmers in need in India to help save lives during these times. I hope we can prevent any additional life from being lost. 🙏🏾 #FarmersProtest https://t.co/0WoEw0l3ij\n",
      "Should be talking about this! #FarmersProtest\n",
      "\n",
      "https://t.co/Xh09iTvVoF\n",
      "“Paid actors,” huh? Quite the casting director, I hope they’re not overlooked during awards season. I stand with the farmers. #FarmersProtest https://t.co/moONj03tN0\n",
      "What in the human rights violations is going on?! They cut the internet around New Delhi?! #FarmersProtest https://t.co/a5ml1P2ikU\n",
      "We stand in solidarity with the #FarmersProtest in India.\n",
      " https://t.co/tqvR0oHgo0\n",
      "Farmers feed the world. Fight for them. Protect them #FarmersProtest\n",
      "why aren’t we talking about this?! #FarmersProtest https://t.co/obmIlXhK9S\n"
     ]
    }
   ],
   "source": [
    "print(\"Los tweets con más retweet son:\")\n",
    "lista = mas_retweet(\"farmers-protest-tweets-2021-03-5.json\")\n",
    "for tweet in lista:\n",
    "    print(\"contenido:\", tweet[\"content\"])"
   ]
  },
  {
   "cell_type": "code",
   "execution_count": null,
   "metadata": {},
   "outputs": [],
   "source": [
    "print(\"Los usuarios con más retweet son:\")\n",
    "print(\"No me carga en el compu :(\")\n",
    "usuarios = usuarios_top(\"farmers-protest-tweets-2021-03-5.json\")\n",
    "for usuario in usuarios:\n",
    "    print(usuario.nombre)"
   ]
  }
 ],
 "metadata": {
  "kernelspec": {
   "display_name": "Python 3",
   "language": "python",
   "name": "python3"
  },
  "language_info": {
   "codemirror_mode": {
    "name": "ipython",
    "version": 3
   },
   "file_extension": ".py",
   "mimetype": "text/x-python",
   "name": "python",
   "nbconvert_exporter": "python",
   "pygments_lexer": "ipython3",
   "version": "3.7.12"
  }
 },
 "nbformat": 4,
 "nbformat_minor": 4
}
